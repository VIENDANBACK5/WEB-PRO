{
 "cells": [
  {
   "cell_type": "code",
   "execution_count": null,
   "metadata": {
    "vscode": {
     "languageId": "javascript"
    }
   },
   "outputs": [],
   "source": [
    "const logger = function(log) {\n",
    "    console.log(log);\n",
    "}\n",
    "\n",
    "logger('hien thi ra ow day')"
   ]
  },
  {
   "cell_type": "markdown",
   "metadata": {},
   "source": [
    "Arrow function trong js ES6 \n",
    "vi du:"
   ]
  },
  {
   "cell_type": "code",
   "execution_count": null,
   "metadata": {
    "vscode": {
     "languageId": "javascript"
    }
   },
   "outputs": [],
   "source": [
    "const logger = (log) => {\n",
    "    console.log(log);\n",
    "}\n",
    "logger('hienthi ra o day')"
   ]
  },
  {
   "cell_type": "markdown",
   "metadata": {},
   "source": [
    "cach su dung\n",
    "\n",
    "```javascript\n",
    "const sum = (a,b) => a + b;\n",
    "console.log(sum(2,2)); // no se return ra la 2 +2 = 4 luon\n",
    "\n",
    "const sum = (a,b) => {\n",
    "    return a + b;\n",
    "}// no k return ra luon a+b ma no se thuc hien code trong {} nen trong {} ban phai return a+b \n",
    "console.log(sum(a+b));//\n",
    "\n",
    "const logger = log => console.log(log);\n",
    "logger('hienthi ra o day...') // do nhan ve 1 doi so nen bo luon () di (log) => log\n",
    "\n",
    " ```\n",
    "\n",
    " dac tinh :\n",
    " arrow function k co context cuar no\n",
    " vi du:\n",
    "\n",
    " khi dung function binh thuong:\n",
    " ```javascript\n",
    "\n",
    " const course = {\n",
    "    name: \"js basic!\",\n",
    "    getName: function() {\n",
    "        return this.name; //this dc hieu la context\n",
    "    }\n",
    " };\n",
    " console.log(course.getName());// inra duoc : js basic!\n",
    "  ```\n",
    "\n",
    "  con khi dung arrow f thi k co context ne loi:\n",
    "  ```javascript\n",
    "  const course = {\n",
    "    name: \"js basic!\",\n",
    "    getName: () => {\n",
    "        return this; \n",
    "    }\n",
    " };\n",
    " console.log(course.getName());// undefined\n",
    " ```"
   ]
  },
  {
   "cell_type": "markdown",
   "metadata": {},
   "source": [
    "khong the dung arrow function de lam contructor duoc\n",
    "```javascript\n",
    "const Course = function(name, price) {\n",
    "    this.name = name;\n",
    "    this.price = price;\n",
    "}\n",
    "\n",
    "const jsCourse = new Course('Javascript',1000)\n",
    "\n",
    "console.log(jsCourse);// Course {name: \"Javascript\". price: 1000}\n",
    "```\n",
    "\n",
    "nhung khi doi thanh arrow thi:\n",
    "```javascript\n",
    "const Course = (name, price) => {\n",
    "    this.name = name;\n",
    "    this.price = price;\n",
    "}\n",
    "\n",
    "const jsCourse = new Course('Javascript',1000)\n",
    "\n",
    "console.log(jsCourse);// loi Course is not Cónstructor\n",
    "```"
   ]
  },
  {
   "cell_type": "markdown",
   "metadata": {},
   "source": []
  },
  {
   "cell_type": "markdown",
   "metadata": {},
   "source": [
    "MODULE\n",
    "các file nối với nhau bằng import và export \n",
    "import ở fiel này \n",
    "ví dụ:\n",
    "App.js\n",
    "```js\n",
    "import logger from './logger.js';\n",
    "\n",
    "console.log(logger) // nó in toàn bộ code trong file kia ra\n",
    "\n",
    "console.log(typeof logger ) // chạy code funcitpon\\\n",
    "\n",
    "logger(\"Test ....\" ,'warm');//in ra dưới dạng warm ...\n",
    "```\n",
    "thì export ở file khác(file chứa code chạy)\n",
    "logger.js\n",
    "```js\n",
    "function logger(log, type = 'log') {\n",
    "    console[type](log);\n",
    "}\n",
    "\n",
    "export default logger;\n",
    "```\n",
    "..... còn nhiều vc mà k hiểu nên k ghi:)))"
   ]
  },
  {
   "cell_type": "markdown",
   "metadata": {},
   "source": [
    "enhanced oject literals \n",
    "\n",
    "1. dinh  nghia key: value cho Ojbect \n",
    "2. dinh nghia method cho ojbect \n",
    "3. dinh nghia key cho ojbect duoi dang bien"
   ]
  },
  {
   "cell_type": "code",
   "execution_count": null,
   "metadata": {
    "vscode": {
     "languageId": "javascript"
    }
   },
   "outputs": [],
   "source": [
    "//1\n",
    "var name = 'Javascript';\n",
    "var price = 1000;\n",
    "\n",
    "var course = {\n",
    "    name,\n",
    "    price \n",
    "};\n",
    "\n",
    "console.log(course);\n",
    "//2\n",
    "\n",
    "var name = 'Javascript';\n",
    "var price = 1000;\n",
    "\n",
    "var course = {\n",
    "    name,\n",
    "    price,\n",
    "    getName( ) {\n",
    "        return name;\n",
    "    } \n",
    "};\n",
    "\n",
    "console.log(course.getName);\n",
    "\n",
    "//3\n",
    "\n",
    "var fieldName = 'name-name';\n",
    "var fieldPrice = 'price';\n",
    "\n",
    "const course = {\n",
    "    name: 'Javascript',\n",
    "    [fieldName]: 'Javascript',\n",
    "    [fieldPrice]: 1000\n",
    "}\n",
    "\n",
    "console.log(course);\n",
    "// {name: \"Javascript\", new-name: \"Javascript\", price: 1000}\n",
    "\n"
   ]
  },
  {
   "cell_type": "markdown",
   "metadata": {},
   "source": [
    "Toan tu Spread + rest parameters + destructuring\n",
    "\n",
    "spread dugn de noi, truyen doi so , goi ra \n",
    "\n",
    "rest dinh nghia ra tham so , lay r anhung phan con lai sau ...rest\n",
    "```js\n",
    "var array = ['js','php','ruby']\n",
    "var [a, ...rest] = array;\n",
    "console.log(a)// js\n",
    "console.log(rest)// php ruby\n",
    "```"
   ]
  },
  {
   "cell_type": "markdown",
   "metadata": {},
   "source": [
    "destructuring: phaan rax , sdung destructuring voowsi ojbect va array\n",
    "\n",
    "```js\n",
    "var array = ['js','php','ruby']\n",
    "var [a,b,c] = array;\n",
    "console.log(a,b,c) // in ra 3 cai tren\n",
    "```\n",
    "```js\n",
    "var course = {\n",
    "    name: 'js'\n",
    "    price: 1000\n",
    "};\n",
    "var { name, price } = course;\n",
    "console.log(name, price)  // vi la ojbect nen muon lay gi thi goi dung ten khong dc dung ki hieu\n",
    "\n",
    "///dung rest voi ojb tuong tu nhu array\n",
    "\n",
    "// neu co them ojb con :\\\n",
    "var course = {\n",
    "    name: 'js'\n",
    "    price: 1000\n",
    "    ...\n",
    "    children: {\n",
    "        name: 'ojb con'\n",
    "    }\n",
    "};\n",
    "var { name: parentName, children: { name } } = course;\n",
    "console.log(parentName)// js \n",
    "console.log(name)// ojb con\n",
    "// neu k doi ten name cha thi se bi name con ghi de or doi ten con giu ten cha\n",
    "// cai gi ko co trong oj thi se loi or neu minh tra ve gi trong var thgi no khai ra nhu v\n",
    "```"
   ]
  },
  {
   "cell_type": "markdown",
   "metadata": {},
   "source": [
    "phuoeng thức creatElement()\n",
    "\n",
    "document.creatElement()   \n",
    "\n",
    "\n",
    "\n",
    "                                         \n"
   ]
  },
  {
   "cell_type": "markdown",
   "metadata": {},
   "source": [
    "jsx javascript xml\n",
    "hỗ trợ viết html trong js\n",
    "\n"
   ]
  }
 ],
 "metadata": {
  "language_info": {
   "name": "python"
  }
 },
 "nbformat": 4,
 "nbformat_minor": 2
}
